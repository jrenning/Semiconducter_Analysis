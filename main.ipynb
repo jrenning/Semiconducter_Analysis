{
 "cells": [
  {
   "cell_type": "markdown",
   "metadata": {},
   "source": [
    "## Importing Libraries and Data"
   ]
  },
  {
   "cell_type": "code",
   "execution_count": null,
   "metadata": {},
   "outputs": [],
   "source": [
    "%pip install matplotlib-inline"
   ]
  },
  {
   "cell_type": "code",
   "execution_count": 87,
   "metadata": {},
   "outputs": [],
   "source": [
    "\n",
    "import pandas as pd\n",
    "import numpy as np\n",
    "from sklearn.feature_selection import SelectKBest,f_classif\n",
    "from sklearn.model_selection import train_test_split\n",
    "from sklearn.preprocessing import MinMaxScaler\n",
    "from sklearn.neighbors import KNeighborsRegressor\n",
    "from sklearn.linear_model import LinearRegression, Ridge, Lasso\n",
    "import matplotlib.pyplot as plt\n"
   ]
  },
  {
   "cell_type": "code",
   "execution_count": 3,
   "metadata": {},
   "outputs": [],
   "source": [
    "# load in data \n",
    "df_train = pd.read_csv('C:\\\\Users\\\\jacka\\\\OneDrive\\\\Desktop\\\\Data Analytics\\\\master_datasets\\\\train.csv')\n",
    "df_unim = pd.read_csv('C:\\\\Users\\\\jacka\\\\OneDrive\\\\Desktop\\\\Data Analytics\\\\master_datasets\\\\unique_m.csv')"
   ]
  },
  {
   "cell_type": "markdown",
   "metadata": {},
   "source": [
    "## Viewing the Data"
   ]
  },
  {
   "cell_type": "code",
   "execution_count": 13,
   "metadata": {},
   "outputs": [
    {
     "name": "stdout",
     "output_type": "stream",
     "text": [
      "                             0\n",
      "O                          4.0\n",
      "Cu                         1.0\n",
      "Ba                         0.2\n",
      "La                         1.8\n",
      "critical_temp             29.0\n",
      "material       Ba0.2La1.8Cu1O4\n"
     ]
    }
   ],
   "source": [
    " \n",
    "df2 = pd.DataFrame(df_unim.iloc[0])\n",
    "df2 = df2.loc[~(df2==0).all(axis=1)]\n",
    "print(df2)"
   ]
  },
  {
   "cell_type": "code",
   "execution_count": 28,
   "metadata": {},
   "outputs": [
    {
     "name": "stdout",
     "output_type": "stream",
     "text": [
      "0        205\n",
      "1        205\n",
      "2        205\n",
      "3        205\n",
      "4        205\n",
      "        ... \n",
      "21258    111\n",
      "21259    205\n",
      "21260     29\n",
      "21261     29\n",
      "21262     53\n",
      "Name: range_atomic_radius, Length: 21263, dtype: int64\n"
     ]
    }
   ],
   "source": [
    "df_train.head()\n",
    "print(df_train['range_atomic_radius'])"
   ]
  },
  {
   "cell_type": "code",
   "execution_count": null,
   "metadata": {},
   "outputs": [],
   "source": [
    "df_train.info()"
   ]
  },
  {
   "cell_type": "markdown",
   "metadata": {},
   "source": [
    "## Selecting the Features"
   ]
  },
  {
   "cell_type": "code",
   "execution_count": 14,
   "metadata": {},
   "outputs": [],
   "source": [
    "# finding the best features for the model using the ANOVA f test\n",
    "bestfeatures = SelectKBest(score_func=f_classif,k=5)\n",
    "fit = bestfeatures.fit(X,y)\n",
    "dfscores = pd.DataFrame(fit.scores_)\n",
    "dfcolumns = pd.DataFrame(X.columns)\n",
    "feature_scores = pd.concat([dfcolumns,dfscores],axis=1)\n",
    "feature_scores.columns = ['Feature', 'Score']\n",
    "\n"
   ]
  },
  {
   "cell_type": "code",
   "execution_count": 15,
   "metadata": {},
   "outputs": [
    {
     "name": "stdout",
     "output_type": "stream",
     "text": [
      "                        Feature      Score\n",
      "70  wtd_std_ThermalConductivity  12.236990\n",
      "27          range_atomic_radius  11.049727\n",
      "67    range_ThermalConductivity  10.880292\n",
      "72             wtd_mean_Valence   9.598850\n",
      "30        wtd_std_atomic_radius   9.261644\n"
     ]
    }
   ],
   "source": [
    "# printing out the best features\n",
    "important_features = feature_scores.nlargest(5,'Score')\n",
    "print(important_features)\n",
    "feature_list = list(important_features.iloc[:,0])"
   ]
  },
  {
   "cell_type": "markdown",
   "metadata": {},
   "source": [
    "### Defining Terms\n",
    "\n",
    "wtd_std_ThermalConductivity- the weighted std of the thermoconductivity of the elements in the superconducter \n",
    "range_atomic_radius- the range of the atomic radius of the elements in the superconducter \n",
    "range_ThermalConductivity- range of thermal conductivity values for the elements in the superconducter \n",
    "wtd_mean_Valence- the weighted mean of the valence electrons in the superconducter \n",
    "wtd_std_stomic_radius- the weighted standard deviation of the atomic radius of the elements in the superconducter "
   ]
  },
  {
   "cell_type": "code",
   "execution_count": 16,
   "metadata": {},
   "outputs": [
    {
     "name": "stdout",
     "output_type": "stream",
     "text": [
      "(21263, 5)\n"
     ]
    }
   ],
   "source": [
    "# create a new dataframe with the selected features for the model \n",
    "new_df = pd.DataFrame()\n",
    "\n",
    "for feature in feature_list:\n",
    "    dummy_df = df_train[feature]\n",
    "    new_df = pd.concat([new_df,dummy_df],axis=1)\n",
    "\n",
    "print(new_df.shape)\n",
    "df_labels = df_train['critical_temp']"
   ]
  },
  {
   "cell_type": "markdown",
   "metadata": {},
   "source": [
    "## Making Training and Testing Sets"
   ]
  },
  {
   "cell_type": "code",
   "execution_count": null,
   "metadata": {},
   "outputs": [],
   "source": [
    "# normalize data \n",
    "scaler = MinMaxScaler()\n",
    "normalized_df = scaler.fit_transform(new_df)\n",
    "\n",
    "# back to dataframe \n",
    "normalized_df = pd.DataFrame(normalized_df)\n",
    "print(normalized_df)\n",
    "\n"
   ]
  },
  {
   "cell_type": "code",
   "execution_count": 67,
   "metadata": {},
   "outputs": [],
   "source": [
    "X_train,X_test,Y_train,Y_test = train_test_split(normalized_df,df_labels,random_state=0)"
   ]
  },
  {
   "cell_type": "markdown",
   "metadata": {},
   "source": [
    "## Testing Models"
   ]
  },
  {
   "cell_type": "code",
   "execution_count": 88,
   "metadata": {},
   "outputs": [
    {
     "name": "stdout",
     "output_type": "stream",
     "text": [
      "The r^2 value for this model is 0.8680471846008018\n"
     ]
    }
   ],
   "source": [
    "# basic kNN classifier\n",
    "knn = KNeighborsRegressor(n_neighbors=3)\n",
    "knn.fit(X_train,Y_train)\n",
    "predicted_y = knn.predict(X_test)\n",
    "print(f'The r^2 value for this model is {knn.score(X_test,Y_test)}')\n"
   ]
  },
  {
   "cell_type": "code",
   "execution_count": 103,
   "metadata": {},
   "outputs": [
    {
     "data": {
      "text/plain": [
       "<matplotlib.legend.Legend at 0x21e4b5b8160>"
      ]
     },
     "execution_count": 103,
     "metadata": {},
     "output_type": "execute_result"
    },
    {
     "data": {
      "image/png": "[encoded data removed]",
      "text/plain": [
       "<Figure size 432x288 with 1 Axes>"
      ]
     },
     "metadata": {
      "needs_background": "light"
     },
     "output_type": "display_data"
    }
   ],
   "source": [
    "predicted_y_sample = predicted_y[:10]\n",
    "true_y_sample = Y_test[:10]\n",
    "\n",
    "\n",
    "scale = np.linspace(1,100,10)\n",
    "\n",
    "plt.scatter(scale,true_y_sample,label='True Values')\n",
    "plt.plot(scale,predicted_y_sample,color='orange',label='Model Prediction')\n",
    "plt.ylabel('Critical Temperature',size=16)\n",
    "plt.xlabel('Superconducter Number',size=16)\n",
    "plt.title('Predicted Critical Temperature vs Actual',size=18)\n",
    "plt.legend()\n"
   ]
  },
  {
   "cell_type": "code",
   "execution_count": 104,
   "metadata": {},
   "outputs": [
    {
     "name": "stdout",
     "output_type": "stream",
     "text": [
      "The r^2 for this model is 0.5714773104093356\n"
     ]
    }
   ],
   "source": [
    "# basic linear regression model\n",
    "linreg = LinearRegression().fit(X_train, Y_train)\n",
    "predicted_y_lin = linreg.predict(X_test)\n",
    "print(f'The r^2 for this model is {linreg.score(X_test,Y_test)}')"
   ]
  },
  {
   "cell_type": "code",
   "execution_count": 106,
   "metadata": {},
   "outputs": [
    {
     "data": {
      "text/plain": [
       "<matplotlib.legend.Legend at 0x21e4c6ed730>"
      ]
     },
     "execution_count": 106,
     "metadata": {},
     "output_type": "execute_result"
    },
    {
     "data": {
      "image/png": "[encoded data removed]",
      "text/plain": [
       "<Figure size 432x288 with 1 Axes>"
      ]
     },
     "metadata": {
      "needs_background": "light"
     },
     "output_type": "display_data"
    }
   ],
   "source": [
    "predicted_y_sample_lin = predicted_y_lin[:10]\n",
    "true_y_sample_lin = Y_test[:10]\n",
    "\n",
    "\n",
    "scale = np.linspace(1,100,10)\n",
    "\n",
    "plt.scatter(scale,true_y_sample_lin,label='True Values')\n",
    "plt.plot(scale,predicted_y_sample_lin,color='orange',label='Model Prediction')\n",
    "plt.ylabel('Critical Temperature',size=16)\n",
    "plt.xlabel('Superconducter Number',size=16)\n",
    "plt.title('Predicted Critical Temperature vs Actual',size=18)\n",
    "plt.legend()"
   ]
  },
  {
   "cell_type": "code",
   "execution_count": 75,
   "metadata": {},
   "outputs": [],
   "source": [
    "def varying_alpha(alpha,model):\n",
    "    if model == 'Ridge':\n",
    "        linridge = Ridge(alpha=alpha).fit(X_train,Y_train)\n",
    "        print(f'The r^2 score for an alpha of {alpha} is {linridge.score(X_test,Y_test)}')\n",
    "    if model == 'Lasso':\n",
    "        linlasso = Lasso(alpha=alpha,max_iter=10000).fit(X_train,Y_train)\n",
    "        print(f'The r^2 score for an alpha of {alpha} is {linlasso.score(X_test,Y_test)}')\n"
   ]
  },
  {
   "cell_type": "code",
   "execution_count": 76,
   "metadata": {},
   "outputs": [
    {
     "name": "stdout",
     "output_type": "stream",
     "text": [
      "The r^2 score for an alpha of 0.1 is 0.5714784538102005\n",
      "The r^2 score for an alpha of 1 is 0.5714775226720363\n",
      "The r^2 score for an alpha of 10 is 0.5706750605400452\n"
     ]
    }
   ],
   "source": [
    "\n",
    "# Ridge Regression model\n",
    "varying_alpha(.1,'Ridge')\n",
    "varying_alpha(1,'Ridge')\n",
    "varying_alpha(10,'Ridge')"
   ]
  },
  {
   "cell_type": "code",
   "execution_count": 81,
   "metadata": {},
   "outputs": [
    {
     "name": "stdout",
     "output_type": "stream",
     "text": [
      "The r^2 score for an alpha of 0.1 is 0.5618569840305766\n",
      "The r^2 score for an alpha of 1 is 0.5366823626893104\n",
      "The r^2 score for an alpha of 5 is 0.31682027669684687\n"
     ]
    }
   ],
   "source": [
    "# Lasso regression \n",
    "varying_alpha(.1,'Lasso')\n",
    "varying_alpha(1,'Lasso')\n",
    "varying_alpha(5,'Lasso')\n"
   ]
  }
 ],
 "metadata": {
  "interpreter": {
   "hash": "bffcef17c2bcc76c2609c2540d0a325bd7df506d0feccf1e23f662393e3f06a4"
  },
  "kernelspec": {
   "display_name": "Python 3.9.6 64-bit ('env': venv)",
   "language": "python",
   "name": "python3"
  },
  "language_info": {
   "codemirror_mode": {
    "name": "ipython",
    "version": 3
   },
   "file_extension": ".py",
   "mimetype": "text/x-python",
   "name": "python",
   "nbconvert_exporter": "python",
   "pygments_lexer": "ipython3",
   "version": "3.9.6"
  },
  "orig_nbformat": 4
 },
 "nbformat": 4,
 "nbformat_minor": 2
}
