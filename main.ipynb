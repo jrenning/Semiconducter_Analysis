{
 "cells": [
  {
   "cell_type": "markdown",
   "metadata": {},
   "source": [
    "## Project Introduction"
   ]
  },
  {
   "cell_type": "markdown",
   "metadata": {},
   "source": [
    "Goal - Use features from the given data on superconducter to train a model to be able to predict a superconducter's critical temperature based on a few of the most notable features\n",
    "Data - Data for this project was obtained from University of California Irvine Machine Learning Repository\n",
    "Tools- This project will use the scikit-learn module along with matplotlib as pandas to visualize and store the data respectively.\n",
    "\n",
    "Note: This project will not go into super sophisticated models, as this is more of a project focused on applying models that I am more familiar with"
   ]
  },
  {
   "cell_type": "markdown",
   "metadata": {},
   "source": [
    "## Importing Libraries and Data"
   ]
  },
  {
   "cell_type": "code",
   "execution_count": 56,
   "metadata": {},
   "outputs": [
    {
     "name": "stdout",
     "output_type": "stream",
     "text": [
      "Requirement already satisfied: matplotlib-inline in c:\\users\\jacka\\onedrive\\desktop\\data analytics\\superconducter\\env\\lib\\site-packages (0.1.3)Note: you may need to restart the kernel to use updated packages.\n",
      "\n",
      "Requirement already satisfied: traitlets in c:\\users\\jacka\\onedrive\\desktop\\data analytics\\superconducter\\env\\lib\\site-packages (from matplotlib-inline) (5.1.1)\n"
     ]
    },
    {
     "name": "stderr",
     "output_type": "stream",
     "text": [
      "WARNING: You are using pip version 21.1.3; however, version 21.3.1 is available.\n",
      "You should consider upgrading via the 'c:\\Users\\jacka\\OneDrive\\Desktop\\Data Analytics\\superconducter\\env\\Scripts\\python.exe -m pip install --upgrade pip' command.\n"
     ]
    }
   ],
   "source": [
    "%pip install matplotlib-inline"
   ]
  },
  {
   "cell_type": "code",
   "execution_count": 57,
   "metadata": {},
   "outputs": [],
   "source": [
    "\n",
    "import pandas as pd\n",
    "import numpy as np\n",
    "from sklearn.feature_selection import SelectKBest,f_classif\n",
    "from sklearn.model_selection import train_test_split\n",
    "from sklearn.preprocessing import MinMaxScaler\n",
    "from sklearn.neighbors import KNeighborsRegressor\n",
    "from sklearn.linear_model import LinearRegression, Ridge, Lasso\n",
    "import matplotlib.pyplot as plt\n"
   ]
  },
  {
   "cell_type": "code",
   "execution_count": 58,
   "metadata": {},
   "outputs": [],
   "source": [
    "# load in data \n",
    "df_train = pd.read_csv('C:\\\\Users\\\\jacka\\\\OneDrive\\\\Desktop\\\\Data Analytics\\\\master_datasets\\\\train.csv')"
   ]
  },
  {
   "cell_type": "markdown",
   "metadata": {},
   "source": [
    "## Viewing the Data"
   ]
  },
  {
   "cell_type": "code",
   "execution_count": 59,
   "metadata": {},
   "outputs": [
    {
     "data": {
      "text/html": [
       "<div>\n",
       "<style scoped>\n",
       "    .dataframe tbody tr th:only-of-type {\n",
       "        vertical-align: middle;\n",
       "    }\n",
       "\n",
       "    .dataframe tbody tr th {\n",
       "        vertical-align: top;\n",
       "    }\n",
       "\n",
       "    .dataframe thead th {\n",
       "        text-align: right;\n",
       "    }\n",
       "</style>\n",
       "<table border=\"1\" class=\"dataframe\">\n",
       "  <thead>\n",
       "    <tr style=\"text-align: right;\">\n",
       "      <th></th>\n",
       "      <th>number_of_elements</th>\n",
       "      <th>mean_atomic_mass</th>\n",
       "      <th>wtd_mean_atomic_mass</th>\n",
       "      <th>gmean_atomic_mass</th>\n",
       "      <th>wtd_gmean_atomic_mass</th>\n",
       "      <th>entropy_atomic_mass</th>\n",
       "      <th>wtd_entropy_atomic_mass</th>\n",
       "      <th>range_atomic_mass</th>\n",
       "      <th>wtd_range_atomic_mass</th>\n",
       "      <th>std_atomic_mass</th>\n",
       "      <th>...</th>\n",
       "      <th>wtd_mean_Valence</th>\n",
       "      <th>gmean_Valence</th>\n",
       "      <th>wtd_gmean_Valence</th>\n",
       "      <th>entropy_Valence</th>\n",
       "      <th>wtd_entropy_Valence</th>\n",
       "      <th>range_Valence</th>\n",
       "      <th>wtd_range_Valence</th>\n",
       "      <th>std_Valence</th>\n",
       "      <th>wtd_std_Valence</th>\n",
       "      <th>critical_temp</th>\n",
       "    </tr>\n",
       "  </thead>\n",
       "  <tbody>\n",
       "    <tr>\n",
       "      <th>0</th>\n",
       "      <td>4</td>\n",
       "      <td>88.944468</td>\n",
       "      <td>57.862692</td>\n",
       "      <td>66.361592</td>\n",
       "      <td>36.116612</td>\n",
       "      <td>1.181795</td>\n",
       "      <td>1.062396</td>\n",
       "      <td>122.90607</td>\n",
       "      <td>31.794921</td>\n",
       "      <td>51.968828</td>\n",
       "      <td>...</td>\n",
       "      <td>2.257143</td>\n",
       "      <td>2.213364</td>\n",
       "      <td>2.219783</td>\n",
       "      <td>1.368922</td>\n",
       "      <td>1.066221</td>\n",
       "      <td>1</td>\n",
       "      <td>1.085714</td>\n",
       "      <td>0.433013</td>\n",
       "      <td>0.437059</td>\n",
       "      <td>29.0</td>\n",
       "    </tr>\n",
       "    <tr>\n",
       "      <th>1</th>\n",
       "      <td>5</td>\n",
       "      <td>92.729214</td>\n",
       "      <td>58.518416</td>\n",
       "      <td>73.132787</td>\n",
       "      <td>36.396602</td>\n",
       "      <td>1.449309</td>\n",
       "      <td>1.057755</td>\n",
       "      <td>122.90607</td>\n",
       "      <td>36.161939</td>\n",
       "      <td>47.094633</td>\n",
       "      <td>...</td>\n",
       "      <td>2.257143</td>\n",
       "      <td>1.888175</td>\n",
       "      <td>2.210679</td>\n",
       "      <td>1.557113</td>\n",
       "      <td>1.047221</td>\n",
       "      <td>2</td>\n",
       "      <td>1.128571</td>\n",
       "      <td>0.632456</td>\n",
       "      <td>0.468606</td>\n",
       "      <td>26.0</td>\n",
       "    </tr>\n",
       "    <tr>\n",
       "      <th>2</th>\n",
       "      <td>4</td>\n",
       "      <td>88.944468</td>\n",
       "      <td>57.885242</td>\n",
       "      <td>66.361592</td>\n",
       "      <td>36.122509</td>\n",
       "      <td>1.181795</td>\n",
       "      <td>0.975980</td>\n",
       "      <td>122.90607</td>\n",
       "      <td>35.741099</td>\n",
       "      <td>51.968828</td>\n",
       "      <td>...</td>\n",
       "      <td>2.271429</td>\n",
       "      <td>2.213364</td>\n",
       "      <td>2.232679</td>\n",
       "      <td>1.368922</td>\n",
       "      <td>1.029175</td>\n",
       "      <td>1</td>\n",
       "      <td>1.114286</td>\n",
       "      <td>0.433013</td>\n",
       "      <td>0.444697</td>\n",
       "      <td>19.0</td>\n",
       "    </tr>\n",
       "    <tr>\n",
       "      <th>3</th>\n",
       "      <td>4</td>\n",
       "      <td>88.944468</td>\n",
       "      <td>57.873967</td>\n",
       "      <td>66.361592</td>\n",
       "      <td>36.119560</td>\n",
       "      <td>1.181795</td>\n",
       "      <td>1.022291</td>\n",
       "      <td>122.90607</td>\n",
       "      <td>33.768010</td>\n",
       "      <td>51.968828</td>\n",
       "      <td>...</td>\n",
       "      <td>2.264286</td>\n",
       "      <td>2.213364</td>\n",
       "      <td>2.226222</td>\n",
       "      <td>1.368922</td>\n",
       "      <td>1.048834</td>\n",
       "      <td>1</td>\n",
       "      <td>1.100000</td>\n",
       "      <td>0.433013</td>\n",
       "      <td>0.440952</td>\n",
       "      <td>22.0</td>\n",
       "    </tr>\n",
       "    <tr>\n",
       "      <th>4</th>\n",
       "      <td>4</td>\n",
       "      <td>88.944468</td>\n",
       "      <td>57.840143</td>\n",
       "      <td>66.361592</td>\n",
       "      <td>36.110716</td>\n",
       "      <td>1.181795</td>\n",
       "      <td>1.129224</td>\n",
       "      <td>122.90607</td>\n",
       "      <td>27.848743</td>\n",
       "      <td>51.968828</td>\n",
       "      <td>...</td>\n",
       "      <td>2.242857</td>\n",
       "      <td>2.213364</td>\n",
       "      <td>2.206963</td>\n",
       "      <td>1.368922</td>\n",
       "      <td>1.096052</td>\n",
       "      <td>1</td>\n",
       "      <td>1.057143</td>\n",
       "      <td>0.433013</td>\n",
       "      <td>0.428809</td>\n",
       "      <td>23.0</td>\n",
       "    </tr>\n",
       "  </tbody>\n",
       "</table>\n",
       "<p>5 rows × 82 columns</p>\n",
       "</div>"
      ],
      "text/plain": [
       "   number_of_elements  mean_atomic_mass  wtd_mean_atomic_mass  \\\n",
       "0                   4         88.944468             57.862692   \n",
       "1                   5         92.729214             58.518416   \n",
       "2                   4         88.944468             57.885242   \n",
       "3                   4         88.944468             57.873967   \n",
       "4                   4         88.944468             57.840143   \n",
       "\n",
       "   gmean_atomic_mass  wtd_gmean_atomic_mass  entropy_atomic_mass  \\\n",
       "0          66.361592              36.116612             1.181795   \n",
       "1          73.132787              36.396602             1.449309   \n",
       "2          66.361592              36.122509             1.181795   \n",
       "3          66.361592              36.119560             1.181795   \n",
       "4          66.361592              36.110716             1.181795   \n",
       "\n",
       "   wtd_entropy_atomic_mass  range_atomic_mass  wtd_range_atomic_mass  \\\n",
       "0                 1.062396          122.90607              31.794921   \n",
       "1                 1.057755          122.90607              36.161939   \n",
       "2                 0.975980          122.90607              35.741099   \n",
       "3                 1.022291          122.90607              33.768010   \n",
       "4                 1.129224          122.90607              27.848743   \n",
       "\n",
       "   std_atomic_mass  ...  wtd_mean_Valence  gmean_Valence  wtd_gmean_Valence  \\\n",
       "0        51.968828  ...          2.257143       2.213364           2.219783   \n",
       "1        47.094633  ...          2.257143       1.888175           2.210679   \n",
       "2        51.968828  ...          2.271429       2.213364           2.232679   \n",
       "3        51.968828  ...          2.264286       2.213364           2.226222   \n",
       "4        51.968828  ...          2.242857       2.213364           2.206963   \n",
       "\n",
       "   entropy_Valence  wtd_entropy_Valence  range_Valence  wtd_range_Valence  \\\n",
       "0         1.368922             1.066221              1           1.085714   \n",
       "1         1.557113             1.047221              2           1.128571   \n",
       "2         1.368922             1.029175              1           1.114286   \n",
       "3         1.368922             1.048834              1           1.100000   \n",
       "4         1.368922             1.096052              1           1.057143   \n",
       "\n",
       "   std_Valence  wtd_std_Valence  critical_temp  \n",
       "0     0.433013         0.437059           29.0  \n",
       "1     0.632456         0.468606           26.0  \n",
       "2     0.433013         0.444697           19.0  \n",
       "3     0.433013         0.440952           22.0  \n",
       "4     0.433013         0.428809           23.0  \n",
       "\n",
       "[5 rows x 82 columns]"
      ]
     },
     "execution_count": 59,
     "metadata": {},
     "output_type": "execute_result"
    }
   ],
   "source": [
    "df_train.head()"
   ]
  },
  {
   "cell_type": "code",
   "execution_count": 60,
   "metadata": {},
   "outputs": [
    {
     "name": "stdout",
     "output_type": "stream",
     "text": [
      "<class 'pandas.core.frame.DataFrame'>\n",
      "RangeIndex: 21263 entries, 0 to 21262\n",
      "Data columns (total 82 columns):\n",
      " #   Column                           Non-Null Count  Dtype  \n",
      "---  ------                           --------------  -----  \n",
      " 0   number_of_elements               21263 non-null  int64  \n",
      " 1   mean_atomic_mass                 21263 non-null  float64\n",
      " 2   wtd_mean_atomic_mass             21263 non-null  float64\n",
      " 3   gmean_atomic_mass                21263 non-null  float64\n",
      " 4   wtd_gmean_atomic_mass            21263 non-null  float64\n",
      " 5   entropy_atomic_mass              21263 non-null  float64\n",
      " 6   wtd_entropy_atomic_mass          21263 non-null  float64\n",
      " 7   range_atomic_mass                21263 non-null  float64\n",
      " 8   wtd_range_atomic_mass            21263 non-null  float64\n",
      " 9   std_atomic_mass                  21263 non-null  float64\n",
      " 10  wtd_std_atomic_mass              21263 non-null  float64\n",
      " 11  mean_fie                         21263 non-null  float64\n",
      " 12  wtd_mean_fie                     21263 non-null  float64\n",
      " 13  gmean_fie                        21263 non-null  float64\n",
      " 14  wtd_gmean_fie                    21263 non-null  float64\n",
      " 15  entropy_fie                      21263 non-null  float64\n",
      " 16  wtd_entropy_fie                  21263 non-null  float64\n",
      " 17  range_fie                        21263 non-null  float64\n",
      " 18  wtd_range_fie                    21263 non-null  float64\n",
      " 19  std_fie                          21263 non-null  float64\n",
      " 20  wtd_std_fie                      21263 non-null  float64\n",
      " 21  mean_atomic_radius               21263 non-null  float64\n",
      " 22  wtd_mean_atomic_radius           21263 non-null  float64\n",
      " 23  gmean_atomic_radius              21263 non-null  float64\n",
      " 24  wtd_gmean_atomic_radius          21263 non-null  float64\n",
      " 25  entropy_atomic_radius            21263 non-null  float64\n",
      " 26  wtd_entropy_atomic_radius        21263 non-null  float64\n",
      " 27  range_atomic_radius              21263 non-null  int64  \n",
      " 28  wtd_range_atomic_radius          21263 non-null  float64\n",
      " 29  std_atomic_radius                21263 non-null  float64\n",
      " 30  wtd_std_atomic_radius            21263 non-null  float64\n",
      " 31  mean_Density                     21263 non-null  float64\n",
      " 32  wtd_mean_Density                 21263 non-null  float64\n",
      " 33  gmean_Density                    21263 non-null  float64\n",
      " 34  wtd_gmean_Density                21263 non-null  float64\n",
      " 35  entropy_Density                  21263 non-null  float64\n",
      " 36  wtd_entropy_Density              21263 non-null  float64\n",
      " 37  range_Density                    21263 non-null  float64\n",
      " 38  wtd_range_Density                21263 non-null  float64\n",
      " 39  std_Density                      21263 non-null  float64\n",
      " 40  wtd_std_Density                  21263 non-null  float64\n",
      " 41  mean_ElectronAffinity            21263 non-null  float64\n",
      " 42  wtd_mean_ElectronAffinity        21263 non-null  float64\n",
      " 43  gmean_ElectronAffinity           21263 non-null  float64\n",
      " 44  wtd_gmean_ElectronAffinity       21263 non-null  float64\n",
      " 45  entropy_ElectronAffinity         21263 non-null  float64\n",
      " 46  wtd_entropy_ElectronAffinity     21263 non-null  float64\n",
      " 47  range_ElectronAffinity           21263 non-null  float64\n",
      " 48  wtd_range_ElectronAffinity       21263 non-null  float64\n",
      " 49  std_ElectronAffinity             21263 non-null  float64\n",
      " 50  wtd_std_ElectronAffinity         21263 non-null  float64\n",
      " 51  mean_FusionHeat                  21263 non-null  float64\n",
      " 52  wtd_mean_FusionHeat              21263 non-null  float64\n",
      " 53  gmean_FusionHeat                 21263 non-null  float64\n",
      " 54  wtd_gmean_FusionHeat             21263 non-null  float64\n",
      " 55  entropy_FusionHeat               21263 non-null  float64\n",
      " 56  wtd_entropy_FusionHeat           21263 non-null  float64\n",
      " 57  range_FusionHeat                 21263 non-null  float64\n",
      " 58  wtd_range_FusionHeat             21263 non-null  float64\n",
      " 59  std_FusionHeat                   21263 non-null  float64\n",
      " 60  wtd_std_FusionHeat               21263 non-null  float64\n",
      " 61  mean_ThermalConductivity         21263 non-null  float64\n",
      " 62  wtd_mean_ThermalConductivity     21263 non-null  float64\n",
      " 63  gmean_ThermalConductivity        21263 non-null  float64\n",
      " 64  wtd_gmean_ThermalConductivity    21263 non-null  float64\n",
      " 65  entropy_ThermalConductivity      21263 non-null  float64\n",
      " 66  wtd_entropy_ThermalConductivity  21263 non-null  float64\n",
      " 67  range_ThermalConductivity        21263 non-null  float64\n",
      " 68  wtd_range_ThermalConductivity    21263 non-null  float64\n",
      " 69  std_ThermalConductivity          21263 non-null  float64\n",
      " 70  wtd_std_ThermalConductivity      21263 non-null  float64\n",
      " 71  mean_Valence                     21263 non-null  float64\n",
      " 72  wtd_mean_Valence                 21263 non-null  float64\n",
      " 73  gmean_Valence                    21263 non-null  float64\n",
      " 74  wtd_gmean_Valence                21263 non-null  float64\n",
      " 75  entropy_Valence                  21263 non-null  float64\n",
      " 76  wtd_entropy_Valence              21263 non-null  float64\n",
      " 77  range_Valence                    21263 non-null  int64  \n",
      " 78  wtd_range_Valence                21263 non-null  float64\n",
      " 79  std_Valence                      21263 non-null  float64\n",
      " 80  wtd_std_Valence                  21263 non-null  float64\n",
      " 81  critical_temp                    21263 non-null  float64\n",
      "dtypes: float64(79), int64(3)\n",
      "memory usage: 13.3 MB\n"
     ]
    }
   ],
   "source": [
    "df_train.info()"
   ]
  },
  {
   "cell_type": "code",
   "execution_count": 61,
   "metadata": {},
   "outputs": [
    {
     "data": {
      "text/html": [
       "<div>\n",
       "<style scoped>\n",
       "    .dataframe tbody tr th:only-of-type {\n",
       "        vertical-align: middle;\n",
       "    }\n",
       "\n",
       "    .dataframe tbody tr th {\n",
       "        vertical-align: top;\n",
       "    }\n",
       "\n",
       "    .dataframe thead th {\n",
       "        text-align: right;\n",
       "    }\n",
       "</style>\n",
       "<table border=\"1\" class=\"dataframe\">\n",
       "  <thead>\n",
       "    <tr style=\"text-align: right;\">\n",
       "      <th></th>\n",
       "      <th>number_of_elements</th>\n",
       "      <th>mean_atomic_mass</th>\n",
       "      <th>wtd_mean_atomic_mass</th>\n",
       "      <th>gmean_atomic_mass</th>\n",
       "      <th>wtd_gmean_atomic_mass</th>\n",
       "      <th>entropy_atomic_mass</th>\n",
       "      <th>wtd_entropy_atomic_mass</th>\n",
       "      <th>range_atomic_mass</th>\n",
       "      <th>wtd_range_atomic_mass</th>\n",
       "      <th>std_atomic_mass</th>\n",
       "      <th>...</th>\n",
       "      <th>wtd_mean_Valence</th>\n",
       "      <th>gmean_Valence</th>\n",
       "      <th>wtd_gmean_Valence</th>\n",
       "      <th>entropy_Valence</th>\n",
       "      <th>wtd_entropy_Valence</th>\n",
       "      <th>range_Valence</th>\n",
       "      <th>wtd_range_Valence</th>\n",
       "      <th>std_Valence</th>\n",
       "      <th>wtd_std_Valence</th>\n",
       "      <th>critical_temp</th>\n",
       "    </tr>\n",
       "  </thead>\n",
       "  <tbody>\n",
       "    <tr>\n",
       "      <th>14804</th>\n",
       "      <td>1</td>\n",
       "      <td>102.905500</td>\n",
       "      <td>102.905500</td>\n",
       "      <td>102.905500</td>\n",
       "      <td>102.905500</td>\n",
       "      <td>0.000000</td>\n",
       "      <td>0.000000</td>\n",
       "      <td>0.000000</td>\n",
       "      <td>0.000000</td>\n",
       "      <td>0.000000</td>\n",
       "      <td>...</td>\n",
       "      <td>6.000000</td>\n",
       "      <td>6.000000</td>\n",
       "      <td>6.000000</td>\n",
       "      <td>0.000000</td>\n",
       "      <td>0.000000</td>\n",
       "      <td>0</td>\n",
       "      <td>0.000000</td>\n",
       "      <td>0.000000</td>\n",
       "      <td>0.000000</td>\n",
       "      <td>0.000210</td>\n",
       "    </tr>\n",
       "    <tr>\n",
       "      <th>14803</th>\n",
       "      <td>1</td>\n",
       "      <td>102.905500</td>\n",
       "      <td>102.905500</td>\n",
       "      <td>102.905500</td>\n",
       "      <td>102.905500</td>\n",
       "      <td>0.000000</td>\n",
       "      <td>0.000000</td>\n",
       "      <td>0.000000</td>\n",
       "      <td>0.000000</td>\n",
       "      <td>0.000000</td>\n",
       "      <td>...</td>\n",
       "      <td>6.000000</td>\n",
       "      <td>6.000000</td>\n",
       "      <td>6.000000</td>\n",
       "      <td>0.000000</td>\n",
       "      <td>0.000000</td>\n",
       "      <td>0</td>\n",
       "      <td>0.000000</td>\n",
       "      <td>0.000000</td>\n",
       "      <td>0.000000</td>\n",
       "      <td>0.000325</td>\n",
       "    </tr>\n",
       "    <tr>\n",
       "      <th>17374</th>\n",
       "      <td>1</td>\n",
       "      <td>6.941000</td>\n",
       "      <td>6.941000</td>\n",
       "      <td>6.941000</td>\n",
       "      <td>6.941000</td>\n",
       "      <td>0.000000</td>\n",
       "      <td>0.000000</td>\n",
       "      <td>0.000000</td>\n",
       "      <td>0.000000</td>\n",
       "      <td>0.000000</td>\n",
       "      <td>...</td>\n",
       "      <td>1.000000</td>\n",
       "      <td>1.000000</td>\n",
       "      <td>1.000000</td>\n",
       "      <td>0.000000</td>\n",
       "      <td>0.000000</td>\n",
       "      <td>0</td>\n",
       "      <td>0.000000</td>\n",
       "      <td>0.000000</td>\n",
       "      <td>0.000000</td>\n",
       "      <td>0.000400</td>\n",
       "    </tr>\n",
       "    <tr>\n",
       "      <th>14807</th>\n",
       "      <td>2</td>\n",
       "      <td>155.892284</td>\n",
       "      <td>195.159300</td>\n",
       "      <td>150.383867</td>\n",
       "      <td>194.641796</td>\n",
       "      <td>0.658023</td>\n",
       "      <td>0.069126</td>\n",
       "      <td>82.148569</td>\n",
       "      <td>190.107308</td>\n",
       "      <td>41.074284</td>\n",
       "      <td>...</td>\n",
       "      <td>4.956000</td>\n",
       "      <td>3.872983</td>\n",
       "      <td>4.944124</td>\n",
       "      <td>0.661563</td>\n",
       "      <td>0.070741</td>\n",
       "      <td>2</td>\n",
       "      <td>4.824000</td>\n",
       "      <td>1.000000</td>\n",
       "      <td>0.293367</td>\n",
       "      <td>0.000500</td>\n",
       "    </tr>\n",
       "    <tr>\n",
       "      <th>14806</th>\n",
       "      <td>1</td>\n",
       "      <td>195.084000</td>\n",
       "      <td>195.084000</td>\n",
       "      <td>195.084000</td>\n",
       "      <td>195.084000</td>\n",
       "      <td>0.000000</td>\n",
       "      <td>0.000000</td>\n",
       "      <td>0.000000</td>\n",
       "      <td>0.000000</td>\n",
       "      <td>0.000000</td>\n",
       "      <td>...</td>\n",
       "      <td>6.000000</td>\n",
       "      <td>6.000000</td>\n",
       "      <td>6.000000</td>\n",
       "      <td>0.000000</td>\n",
       "      <td>0.000000</td>\n",
       "      <td>0</td>\n",
       "      <td>0.000000</td>\n",
       "      <td>0.000000</td>\n",
       "      <td>0.000000</td>\n",
       "      <td>0.000620</td>\n",
       "    </tr>\n",
       "    <tr>\n",
       "      <th>...</th>\n",
       "      <td>...</td>\n",
       "      <td>...</td>\n",
       "      <td>...</td>\n",
       "      <td>...</td>\n",
       "      <td>...</td>\n",
       "      <td>...</td>\n",
       "      <td>...</td>\n",
       "      <td>...</td>\n",
       "      <td>...</td>\n",
       "      <td>...</td>\n",
       "      <td>...</td>\n",
       "      <td>...</td>\n",
       "      <td>...</td>\n",
       "      <td>...</td>\n",
       "      <td>...</td>\n",
       "      <td>...</td>\n",
       "      <td>...</td>\n",
       "      <td>...</td>\n",
       "      <td>...</td>\n",
       "      <td>...</td>\n",
       "      <td>...</td>\n",
       "    </tr>\n",
       "    <tr>\n",
       "      <th>1343</th>\n",
       "      <td>7</td>\n",
       "      <td>106.454829</td>\n",
       "      <td>91.018475</td>\n",
       "      <td>78.774541</td>\n",
       "      <td>69.276239</td>\n",
       "      <td>1.709748</td>\n",
       "      <td>1.488831</td>\n",
       "      <td>192.981000</td>\n",
       "      <td>39.998760</td>\n",
       "      <td>71.393594</td>\n",
       "      <td>...</td>\n",
       "      <td>2.670330</td>\n",
       "      <td>2.869006</td>\n",
       "      <td>2.458852</td>\n",
       "      <td>1.855373</td>\n",
       "      <td>1.656659</td>\n",
       "      <td>3</td>\n",
       "      <td>0.934066</td>\n",
       "      <td>1.355262</td>\n",
       "      <td>1.231946</td>\n",
       "      <td>136.000000</td>\n",
       "    </tr>\n",
       "    <tr>\n",
       "      <th>19039</th>\n",
       "      <td>6</td>\n",
       "      <td>110.320617</td>\n",
       "      <td>52.533367</td>\n",
       "      <td>78.241067</td>\n",
       "      <td>34.005520</td>\n",
       "      <td>1.535695</td>\n",
       "      <td>1.653117</td>\n",
       "      <td>188.383900</td>\n",
       "      <td>13.796235</td>\n",
       "      <td>74.993418</td>\n",
       "      <td>...</td>\n",
       "      <td>2.047059</td>\n",
       "      <td>2.139826</td>\n",
       "      <td>2.038528</td>\n",
       "      <td>1.778233</td>\n",
       "      <td>1.377140</td>\n",
       "      <td>1</td>\n",
       "      <td>1.035294</td>\n",
       "      <td>0.372678</td>\n",
       "      <td>0.211765</td>\n",
       "      <td>137.400000</td>\n",
       "    </tr>\n",
       "    <tr>\n",
       "      <th>5200</th>\n",
       "      <td>6</td>\n",
       "      <td>110.790067</td>\n",
       "      <td>54.751013</td>\n",
       "      <td>78.419756</td>\n",
       "      <td>35.634607</td>\n",
       "      <td>1.534148</td>\n",
       "      <td>1.676546</td>\n",
       "      <td>191.200600</td>\n",
       "      <td>13.280875</td>\n",
       "      <td>75.587235</td>\n",
       "      <td>...</td>\n",
       "      <td>2.037500</td>\n",
       "      <td>2.244924</td>\n",
       "      <td>2.026163</td>\n",
       "      <td>1.747868</td>\n",
       "      <td>1.432405</td>\n",
       "      <td>2</td>\n",
       "      <td>0.925000</td>\n",
       "      <td>0.745356</td>\n",
       "      <td>0.271282</td>\n",
       "      <td>143.000000</td>\n",
       "    </tr>\n",
       "    <tr>\n",
       "      <th>3985</th>\n",
       "      <td>6</td>\n",
       "      <td>110.790067</td>\n",
       "      <td>53.779128</td>\n",
       "      <td>78.419756</td>\n",
       "      <td>34.814175</td>\n",
       "      <td>1.534148</td>\n",
       "      <td>1.685378</td>\n",
       "      <td>191.200600</td>\n",
       "      <td>12.543366</td>\n",
       "      <td>75.587235</td>\n",
       "      <td>...</td>\n",
       "      <td>2.041769</td>\n",
       "      <td>2.244924</td>\n",
       "      <td>2.029163</td>\n",
       "      <td>1.747868</td>\n",
       "      <td>1.416675</td>\n",
       "      <td>2</td>\n",
       "      <td>0.950860</td>\n",
       "      <td>0.745356</td>\n",
       "      <td>0.285996</td>\n",
       "      <td>143.000000</td>\n",
       "    </tr>\n",
       "    <tr>\n",
       "      <th>20573</th>\n",
       "      <td>2</td>\n",
       "      <td>16.536470</td>\n",
       "      <td>11.360293</td>\n",
       "      <td>5.685033</td>\n",
       "      <td>3.193745</td>\n",
       "      <td>0.136394</td>\n",
       "      <td>0.224622</td>\n",
       "      <td>31.057060</td>\n",
       "      <td>10.016373</td>\n",
       "      <td>15.528530</td>\n",
       "      <td>...</td>\n",
       "      <td>2.666667</td>\n",
       "      <td>2.449490</td>\n",
       "      <td>1.817121</td>\n",
       "      <td>0.410116</td>\n",
       "      <td>0.562335</td>\n",
       "      <td>5</td>\n",
       "      <td>1.333333</td>\n",
       "      <td>2.500000</td>\n",
       "      <td>2.357023</td>\n",
       "      <td>185.000000</td>\n",
       "    </tr>\n",
       "  </tbody>\n",
       "</table>\n",
       "<p>21263 rows × 82 columns</p>\n",
       "</div>"
      ],
      "text/plain": [
       "       number_of_elements  mean_atomic_mass  wtd_mean_atomic_mass  \\\n",
       "14804                   1        102.905500            102.905500   \n",
       "14803                   1        102.905500            102.905500   \n",
       "17374                   1          6.941000              6.941000   \n",
       "14807                   2        155.892284            195.159300   \n",
       "14806                   1        195.084000            195.084000   \n",
       "...                   ...               ...                   ...   \n",
       "1343                    7        106.454829             91.018475   \n",
       "19039                   6        110.320617             52.533367   \n",
       "5200                    6        110.790067             54.751013   \n",
       "3985                    6        110.790067             53.779128   \n",
       "20573                   2         16.536470             11.360293   \n",
       "\n",
       "       gmean_atomic_mass  wtd_gmean_atomic_mass  entropy_atomic_mass  \\\n",
       "14804         102.905500             102.905500             0.000000   \n",
       "14803         102.905500             102.905500             0.000000   \n",
       "17374           6.941000               6.941000             0.000000   \n",
       "14807         150.383867             194.641796             0.658023   \n",
       "14806         195.084000             195.084000             0.000000   \n",
       "...                  ...                    ...                  ...   \n",
       "1343           78.774541              69.276239             1.709748   \n",
       "19039          78.241067              34.005520             1.535695   \n",
       "5200           78.419756              35.634607             1.534148   \n",
       "3985           78.419756              34.814175             1.534148   \n",
       "20573           5.685033               3.193745             0.136394   \n",
       "\n",
       "       wtd_entropy_atomic_mass  range_atomic_mass  wtd_range_atomic_mass  \\\n",
       "14804                 0.000000           0.000000               0.000000   \n",
       "14803                 0.000000           0.000000               0.000000   \n",
       "17374                 0.000000           0.000000               0.000000   \n",
       "14807                 0.069126          82.148569             190.107308   \n",
       "14806                 0.000000           0.000000               0.000000   \n",
       "...                        ...                ...                    ...   \n",
       "1343                  1.488831         192.981000              39.998760   \n",
       "19039                 1.653117         188.383900              13.796235   \n",
       "5200                  1.676546         191.200600              13.280875   \n",
       "3985                  1.685378         191.200600              12.543366   \n",
       "20573                 0.224622          31.057060              10.016373   \n",
       "\n",
       "       std_atomic_mass  ...  wtd_mean_Valence  gmean_Valence  \\\n",
       "14804         0.000000  ...          6.000000       6.000000   \n",
       "14803         0.000000  ...          6.000000       6.000000   \n",
       "17374         0.000000  ...          1.000000       1.000000   \n",
       "14807        41.074284  ...          4.956000       3.872983   \n",
       "14806         0.000000  ...          6.000000       6.000000   \n",
       "...                ...  ...               ...            ...   \n",
       "1343         71.393594  ...          2.670330       2.869006   \n",
       "19039        74.993418  ...          2.047059       2.139826   \n",
       "5200         75.587235  ...          2.037500       2.244924   \n",
       "3985         75.587235  ...          2.041769       2.244924   \n",
       "20573        15.528530  ...          2.666667       2.449490   \n",
       "\n",
       "       wtd_gmean_Valence  entropy_Valence  wtd_entropy_Valence  range_Valence  \\\n",
       "14804           6.000000         0.000000             0.000000              0   \n",
       "14803           6.000000         0.000000             0.000000              0   \n",
       "17374           1.000000         0.000000             0.000000              0   \n",
       "14807           4.944124         0.661563             0.070741              2   \n",
       "14806           6.000000         0.000000             0.000000              0   \n",
       "...                  ...              ...                  ...            ...   \n",
       "1343            2.458852         1.855373             1.656659              3   \n",
       "19039           2.038528         1.778233             1.377140              1   \n",
       "5200            2.026163         1.747868             1.432405              2   \n",
       "3985            2.029163         1.747868             1.416675              2   \n",
       "20573           1.817121         0.410116             0.562335              5   \n",
       "\n",
       "       wtd_range_Valence  std_Valence  wtd_std_Valence  critical_temp  \n",
       "14804           0.000000     0.000000         0.000000       0.000210  \n",
       "14803           0.000000     0.000000         0.000000       0.000325  \n",
       "17374           0.000000     0.000000         0.000000       0.000400  \n",
       "14807           4.824000     1.000000         0.293367       0.000500  \n",
       "14806           0.000000     0.000000         0.000000       0.000620  \n",
       "...                  ...          ...              ...            ...  \n",
       "1343            0.934066     1.355262         1.231946     136.000000  \n",
       "19039           1.035294     0.372678         0.211765     137.400000  \n",
       "5200            0.925000     0.745356         0.271282     143.000000  \n",
       "3985            0.950860     0.745356         0.285996     143.000000  \n",
       "20573           1.333333     2.500000         2.357023     185.000000  \n",
       "\n",
       "[21263 rows x 82 columns]"
      ]
     },
     "execution_count": 61,
     "metadata": {},
     "output_type": "execute_result"
    }
   ],
   "source": [
    "# sort data by critical temperature to have a better view of the low and high values of critical temperatures\n",
    "df_train = df_train.sort_values(by='critical_temp',axis=0)\n",
    "\n",
    "df_train"
   ]
  },
  {
   "cell_type": "markdown",
   "metadata": {},
   "source": [
    "## Selecting the Features"
   ]
  },
  {
   "cell_type": "code",
   "execution_count": 62,
   "metadata": {},
   "outputs": [],
   "source": [
    "# finding the best features for the model using the ANOVA f test\n",
    "\n",
    "X = df_train.iloc[:,:81]\n",
    "y = df_train.iloc[:,-1]\n",
    "\n",
    "bestfeatures = SelectKBest(score_func=f_classif,k=5)\n",
    "fit = bestfeatures.fit(X,y)\n",
    "dfscores = pd.DataFrame(fit.scores_)\n",
    "dfcolumns = pd.DataFrame(X.columns)\n",
    "feature_scores = pd.concat([dfcolumns,dfscores],axis=1)\n",
    "feature_scores.columns = ['Feature', 'Score']\n",
    "\n"
   ]
  },
  {
   "cell_type": "code",
   "execution_count": 63,
   "metadata": {},
   "outputs": [
    {
     "name": "stdout",
     "output_type": "stream",
     "text": [
      "                        Feature      Score\n",
      "70  wtd_std_ThermalConductivity  12.236990\n",
      "27          range_atomic_radius  11.049727\n",
      "67    range_ThermalConductivity  10.880292\n",
      "72             wtd_mean_Valence   9.598850\n",
      "30        wtd_std_atomic_radius   9.261644\n"
     ]
    }
   ],
   "source": [
    "# printing out the best features\n",
    "important_features = feature_scores.nlargest(5,'Score')\n",
    "print(important_features)\n",
    "feature_list = list(important_features.iloc[:,0])"
   ]
  },
  {
   "cell_type": "markdown",
   "metadata": {},
   "source": [
    "### Defining Terms\n",
    "\n",
    "*values are weighted by the number of an element present in a superconducter, ie one with 2 oxygen and 1 carbon would have oxygen's value weighted twice as heavy*\n",
    "* wtd_std_ThermalConductivity- the weighted standard deviation of the thermoconductivity of the elements in the superconducter \n",
    "* range_atomic_radius- the range of the atomic radius of the elements in the superconducter \n",
    "* range_ThermalConductivity- range of thermal conductivity values for the elements in the superconducter \n",
    "* wtd_mean_Valence- the weighted mean of the valence electrons in the superconducter \n",
    "* wtd_std_stomic_radius- the weighted standard deviation of the atomic radius of the elements in the superconducter "
   ]
  },
  {
   "cell_type": "code",
   "execution_count": 64,
   "metadata": {},
   "outputs": [
    {
     "name": "stdout",
     "output_type": "stream",
     "text": [
      "(21263, 5)\n"
     ]
    }
   ],
   "source": [
    "# create a new dataframe with the selected features for the model \n",
    "new_df = pd.DataFrame()\n",
    "\n",
    "for feature in feature_list:\n",
    "    dummy_df = df_train[feature]\n",
    "    new_df = pd.concat([new_df,dummy_df],axis=1)\n",
    "\n",
    "\n",
    "print(new_df.shape)\n",
    "df_labels = df_train['critical_temp']"
   ]
  },
  {
   "cell_type": "markdown",
   "metadata": {},
   "source": [
    "## Making Training and Testing Sets"
   ]
  },
  {
   "cell_type": "code",
   "execution_count": 65,
   "metadata": {},
   "outputs": [
    {
     "name": "stdout",
     "output_type": "stream",
     "text": [
      "              0         1         2         3         4\n",
      "0      0.000000  0.000000  0.000000  0.833333  0.000000\n",
      "1      0.000000  0.000000  0.000000  0.833333  0.000000\n",
      "2      0.000000  0.000000  0.000000  0.000000  0.000000\n",
      "3      0.163669  0.070312  0.553522  0.659333  0.027180\n",
      "4      0.000000  0.000000  0.000000  0.833333  0.000000\n",
      "...         ...       ...       ...       ...       ...\n",
      "21258  0.727149  0.667969  0.930227  0.278388  0.515942\n",
      "21259  0.716779  0.800781  0.930227  0.174510  0.771858\n",
      "21260  0.732311  0.800781  0.930227  0.172917  0.779499\n",
      "21261  0.721119  0.800781  0.930227  0.173628  0.779509\n",
      "21262  0.000054  0.132812  0.000057  0.277778  0.164995\n",
      "\n",
      "[21263 rows x 5 columns]\n"
     ]
    }
   ],
   "source": [
    "# normalize data \n",
    "scaler = MinMaxScaler()\n",
    "normalized_df = scaler.fit_transform(new_df)\n",
    "\n",
    "# back to dataframe \n",
    "normalized_df = pd.DataFrame(normalized_df)\n",
    "print(normalized_df)\n",
    "\n"
   ]
  },
  {
   "cell_type": "code",
   "execution_count": 66,
   "metadata": {},
   "outputs": [],
   "source": [
    "X_train,X_test,Y_train,Y_test = train_test_split(normalized_df,df_labels,random_state=0)"
   ]
  },
  {
   "cell_type": "markdown",
   "metadata": {},
   "source": [
    "## Testing Models"
   ]
  },
  {
   "cell_type": "code",
   "execution_count": 67,
   "metadata": {},
   "outputs": [
    {
     "data": {
      "text/plain": [
       "<matplotlib.collections.PathCollection at 0x1cddbb39730>"
      ]
     },
     "execution_count": 67,
     "metadata": {},
     "output_type": "execute_result"
    },
    {
     "data": {
      "image/png": "[encoded data removed]",
      "text/plain": [
       "<Figure size 432x288 with 1 Axes>"
      ]
     },
     "metadata": {
      "needs_background": "light"
     },
     "output_type": "display_data"
    }
   ],
   "source": [
    "\n",
    "# Viewing a general plot of the critical temperatures\n",
    "true_y_sample = sorted(Y_test)\n",
    "scale = np.linspace(0,5316,5316)\n",
    "\n",
    "plt.scatter(scale,true_y_sample)"
   ]
  },
  {
   "cell_type": "markdown",
   "metadata": {},
   "source": [
    "This plot of a sample of the critical temperature distribution in the semiconducters shows that there appears to be three sections. The first section is the superconducters  with a critical temperature at ~40 Kelvin. Then there is a group between 40 and ~100 Kelvin, and one more that exists past that. \n",
    "\n",
    "This information on the groups is important in the selection of the model. Based on this distribution, it can be theorized that a typical linear classifier would do poorly as it would likely predict well for the middle group, but loe accuracy on the other two as their slopes are much different. An idea of a classifier that can be used is a KNN Regressor, as it has as better chance of picking up on the local changes in each group, being that looking at neighbor data points is how it does its modeling. Becuase of this that will be the frist model that will be tested, although linear models will still be run for a point of comparison."
   ]
  },
  {
   "cell_type": "markdown",
   "metadata": {},
   "source": [
    "### KNN Regressor Model"
   ]
  },
  {
   "cell_type": "code",
   "execution_count": 68,
   "metadata": {},
   "outputs": [
    {
     "name": "stdout",
     "output_type": "stream",
     "text": [
      "The r^2 value for this model is 0.8780693480492001\n"
     ]
    }
   ],
   "source": [
    "# basic kNN classifier\n",
    "knn = KNeighborsRegressor(n_neighbors=3)\n",
    "knn.fit(X_train,Y_train)\n",
    "predicted_y = knn.predict(X_test)\n",
    "print(f'The r^2 value for this model is {knn.score(X_test,Y_test)}')\n"
   ]
  },
  {
   "cell_type": "code",
   "execution_count": 69,
   "metadata": {},
   "outputs": [
    {
     "data": {
      "image/png": "[encoded data removed]",
      "text/plain": [
       "<Figure size 432x288 with 1 Axes>"
      ]
     },
     "metadata": {
      "needs_background": "light"
     },
     "output_type": "display_data"
    },
    {
     "data": {
      "image/png": "[encoded data removed]",
      "text/plain": [
       "<Figure size 432x288 with 1 Axes>"
      ]
     },
     "metadata": {
      "needs_background": "light"
     },
     "output_type": "display_data"
    },
    {
     "data": {
      "image/png": "[encoded data removed]",
      "text/plain": [
       "<Figure size 432x288 with 1 Axes>"
      ]
     },
     "metadata": {
      "needs_background": "light"
     },
     "output_type": "display_data"
    }
   ],
   "source": [
    "predicted_y_sample_low = sorted(predicted_y)[:10]\n",
    "true_y_sample_low = sorted(Y_test)[:10]\n",
    "predicted_y_sample_high = sorted(predicted_y)[-10:]\n",
    "true_y_sample_high = sorted(Y_test)[-10:]\n",
    "predicted_y_sample = predicted_y[:10]\n",
    "true_y_sample = Y_test[:10]\n",
    "\n",
    "\n",
    "scale = np.linspace(1,10,10)\n",
    "\n",
    "def graph(pred_sample,true_sample,section):\n",
    "    plt.scatter(scale,true_sample,label='True Values')\n",
    "    plt.plot(scale,pred_sample,color='orange',label='Model Prediction')\n",
    "    plt.ylabel('Critical Temperature (K)',size=16)\n",
    "    plt.xlabel('Superconducter Number',size=16)\n",
    "    plt.title(f'Predicted Critical Temperature vs Actual ({section}) ',size=18)\n",
    "    plt.legend()\n",
    "    plt.show()\n",
    "\n",
    "graph(predicted_y_sample_low,true_y_sample_low,'Low Values')\n",
    "graph(predicted_y_sample_high,true_y_sample_high,'High Values')\n",
    "graph(predicted_y_sample,true_y_sample,'Random Values')\n"
   ]
  },
  {
   "cell_type": "markdown",
   "metadata": {},
   "source": [
    "These graphs show the results of the KNN Regression Model. They show that the model tends to struggle with the lowest values in the dataset, but does much better on the higher values. Additonly, it shows with a random selection of points it does a good job at classifying most of them. Potential improvements for this model could look at imporoving the perfomence at those lower values."
   ]
  },
  {
   "cell_type": "markdown",
   "metadata": {},
   "source": [
    "### Other Linear Models"
   ]
  },
  {
   "cell_type": "code",
   "execution_count": 70,
   "metadata": {},
   "outputs": [
    {
     "name": "stdout",
     "output_type": "stream",
     "text": [
      "The r^2 for this model is 0.568218707439538\n"
     ]
    }
   ],
   "source": [
    "# basic linear regression model\n",
    "linreg = LinearRegression().fit(X_train, Y_train)\n",
    "predicted_y_lin = linreg.predict(X_test)\n",
    "print(f'The r^2 for this model is {linreg.score(X_test,Y_test)}')"
   ]
  },
  {
   "cell_type": "code",
   "execution_count": 71,
   "metadata": {},
   "outputs": [
    {
     "data": {
      "image/png": "[encoded data removed]",
      "text/plain": [
       "<Figure size 432x288 with 1 Axes>"
      ]
     },
     "metadata": {
      "needs_background": "light"
     },
     "output_type": "display_data"
    },
    {
     "data": {
      "image/png": "[encoded data removed]",
      "text/plain": [
       "<Figure size 432x288 with 1 Axes>"
      ]
     },
     "metadata": {
      "needs_background": "light"
     },
     "output_type": "display_data"
    },
    {
     "data": {
      "image/png": "[encoded data removed]",
      "text/plain": [
       "<Figure size 432x288 with 1 Axes>"
      ]
     },
     "metadata": {
      "needs_background": "light"
     },
     "output_type": "display_data"
    }
   ],
   "source": [
    "\n",
    "\n",
    "predicted_y_sample_low = sorted(predicted_y_lin)[:10]\n",
    "true_y_sample_low = sorted(Y_test)[:10]\n",
    "predicted_y_sample_high = sorted(predicted_y_lin)[-10:]\n",
    "true_y_sample_high = sorted(Y_test)[-10:]\n",
    "predicted_y_sample = predicted_y_lin[:10]\n",
    "true_y_sample = Y_test[:10]\n",
    "\n",
    "\n",
    "scale = np.linspace(1,10,10)\n",
    "\n",
    "# uses graph function from the KNN model\n",
    "graph(predicted_y_sample_low,true_y_sample_low,'Low Values')\n",
    "graph(predicted_y_sample_high,true_y_sample_high,'High Values')\n",
    "graph(predicted_y_sample,true_y_sample,'Random Values')"
   ]
  },
  {
   "cell_type": "markdown",
   "metadata": {},
   "source": [
    "These graphs show the results of the linear regression model. As predicted above this model deos a worse job predicting the critical temperature than the KNN model. From the graphs it seems that it tended to undershoot most of the values, whether that be the low or high ones. This might be something that can be tweaked away in another model, but for now it serves as a good point of comparison for the KNN model."
   ]
  },
  {
   "cell_type": "code",
   "execution_count": 72,
   "metadata": {},
   "outputs": [],
   "source": [
    "def varying_alpha(alpha,model):\n",
    "    if model == 'Ridge':\n",
    "        linridge = Ridge(alpha=alpha).fit(X_train,Y_train)\n",
    "        print(f'The r^2 score for an alpha of {alpha} is {linridge.score(X_test,Y_test)}')\n",
    "    if model == 'Lasso':\n",
    "        linlasso = Lasso(alpha=alpha,max_iter=10000).fit(X_train,Y_train)\n",
    "        print(f'The r^2 score for an alpha of {alpha} is {linlasso.score(X_test,Y_test)}')\n"
   ]
  },
  {
   "cell_type": "code",
   "execution_count": 73,
   "metadata": {},
   "outputs": [
    {
     "name": "stdout",
     "output_type": "stream",
     "text": [
      "The r^2 score for an alpha of 0.1 is 0.5682263481445473\n",
      "The r^2 score for an alpha of 1 is 0.5682833122155588\n",
      "The r^2 score for an alpha of 10 is 0.5680002753323434\n"
     ]
    }
   ],
   "source": [
    "\n",
    "# Ridge Regression model\n",
    "varying_alpha(.1,'Ridge')\n",
    "varying_alpha(1,'Ridge')\n",
    "varying_alpha(10,'Ridge')"
   ]
  },
  {
   "cell_type": "code",
   "execution_count": 74,
   "metadata": {},
   "outputs": [
    {
     "name": "stdout",
     "output_type": "stream",
     "text": [
      "The r^2 score for an alpha of 0.1 is 0.5611829732244906\n",
      "The r^2 score for an alpha of 1 is 0.5360047687654055\n",
      "The r^2 score for an alpha of 5 is 0.31421728234531543\n"
     ]
    }
   ],
   "source": [
    "# Lasso regression \n",
    "varying_alpha(.1,'Lasso')\n",
    "varying_alpha(1,'Lasso')\n",
    "varying_alpha(5,'Lasso')\n"
   ]
  }
 ],
 "metadata": {
  "interpreter": {
   "hash": "bffcef17c2bcc76c2609c2540d0a325bd7df506d0feccf1e23f662393e3f06a4"
  },
  "kernelspec": {
   "display_name": "Python 3.9.6 64-bit ('env': venv)",
   "language": "python",
   "name": "python3"
  },
  "language_info": {
   "codemirror_mode": {
    "name": "ipython",
    "version": 3
   },
   "file_extension": ".py",
   "mimetype": "text/x-python",
   "name": "python",
   "nbconvert_exporter": "python",
   "pygments_lexer": "ipython3",
   "version": "3.9.6"
  },
  "orig_nbformat": 4
 },
 "nbformat": 4,
 "nbformat_minor": 2
}
